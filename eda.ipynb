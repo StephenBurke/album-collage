{
 "cells": [
  {
   "cell_type": "code",
   "execution_count": 8,
   "metadata": {},
   "outputs": [],
   "source": [
    "import tidalapi\n",
    "from PIL import Image\n",
    "\n",
    "session = tidalapi.Session()"
   ]
  },
  {
   "cell_type": "code",
   "execution_count": null,
   "metadata": {},
   "outputs": [],
   "source": [
    "# Will run until you visit the printed url and link your account\n",
    "session.login_oauth_simple()"
   ]
  },
  {
   "cell_type": "code",
   "execution_count": 7,
   "metadata": {},
   "outputs": [
    {
     "name": "stdout",
     "output_type": "stream",
     "text": [
      "Back In The U.S.S.R.\n",
      "Dear Prudence\n",
      "Glass Onion\n",
      "Ob-La-Di, Ob-La-Da\n",
      "Wild Honey Pie\n",
      "The Continuing Story Of Bungalow Bill\n",
      "While My Guitar Gently Weeps\n",
      "Happiness Is A Warm Gun\n",
      "Martha My Dear\n",
      "I'm So Tired\n",
      "Blackbird\n",
      "Piggies\n",
      "Rocky Raccoon\n",
      "Don't Pass Me By\n",
      "Why Don't We Do It In The Road?\n",
      "I Will\n",
      "Julia\n",
      "Birthday\n",
      "Yer Blues\n",
      "Mother Nature's Son\n",
      "Everybody's Got Something To Hide Except Me And My Monkey\n",
      "Sexy Sadie\n",
      "Helter Skelter\n",
      "Long, Long, Long\n",
      "Revolution 1\n",
      "Honey Pie\n",
      "Savoy Truffle\n",
      "Cry Baby Cry\n",
      "Revolution 9\n",
      "Good Night\n"
     ]
    }
   ],
   "source": [
    "album = session.album(55163302)\n",
    "\n",
    "tracks = album.tracks()\n",
    "for track in tracks:\n",
    "    print(track.name)"
   ]
  }
 ],
 "metadata": {
  "kernelspec": {
   "display_name": "college_anal",
   "language": "python",
   "name": "python3"
  },
  "language_info": {
   "codemirror_mode": {
    "name": "ipython",
    "version": 3
   },
   "file_extension": ".py",
   "mimetype": "text/x-python",
   "name": "python",
   "nbconvert_exporter": "python",
   "pygments_lexer": "ipython3",
   "version": "3.11.1"
  },
  "orig_nbformat": 4,
  "vscode": {
   "interpreter": {
    "hash": "d3cfaa9dde6695d477fee56bd1f52c32c6c8047c463749900f1033bf2e4ab266"
   }
  }
 },
 "nbformat": 4,
 "nbformat_minor": 2
}
